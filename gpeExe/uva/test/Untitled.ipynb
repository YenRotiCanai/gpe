{
 "cells": [
  {
   "cell_type": "code",
   "execution_count": 3,
   "metadata": {},
   "outputs": [],
   "source": [
    "import java.util.Scanner;\n",
    "Scanner sc = new Scanner(System.in);"
   ]
  },
  {
   "cell_type": "code",
   "execution_count": 4,
   "metadata": {},
   "outputs": [
    {
     "name": "stdout",
     "output_type": "stream",
     "text": [
      "4\n",
      "bbbb\n",
      "56\n",
      "bbbb\n",
      "0\n"
     ]
    }
   ],
   "source": [
    "int c;\n",
    "\n",
    "while(sc.hasNextInt() && (c = sc.nextInt())!=0 ){\n",
    "    System.out.println(\"bbbb\");\n",
    "}"
   ]
  },
  {
   "cell_type": "code",
   "execution_count": null,
   "metadata": {},
   "outputs": [
    {
     "name": "stdout",
     "output_type": "stream",
     "text": [
      "45\n",
      "bbbb\n",
      "54\n",
      "bbbb\n",
      "45\n",
      "bbbb\n"
     ]
    }
   ],
   "source": [
    "while(sc.hasNext()){\n",
    "    int c = sc.nextInt();\n",
    "    System.out.println(\"bbbb\");\n",
    "}"
   ]
  },
  {
   "cell_type": "code",
   "execution_count": null,
   "metadata": {},
   "outputs": [],
   "source": [
    "while(sc.hasNext()){\n",
    "    int e = sc.nextInt();\n",
    "    System.out.println(\"bbbb\");\n",
    "}"
   ]
  },
  {
   "cell_type": "code",
   "execution_count": null,
   "metadata": {},
   "outputs": [],
   "source": []
  }
 ],
 "metadata": {
  "kernelspec": {
   "display_name": "Java",
   "language": "java",
   "name": "java"
  },
  "language_info": {
   "codemirror_mode": "java",
   "file_extension": ".jshell",
   "mimetype": "text/x-java-source",
   "name": "Java",
   "pygments_lexer": "java",
   "version": "11.0.5+10"
  }
 },
 "nbformat": 4,
 "nbformat_minor": 4
}
